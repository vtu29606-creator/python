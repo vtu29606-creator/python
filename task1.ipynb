{
  "nbformat": 4,
  "nbformat_minor": 0,
  "metadata": {
    "colab": {
      "provenance": [],
      "authorship_tag": "ABX9TyNU5jwiHvNMA87MhYxAJO66",
      "include_colab_link": true
    },
    "kernelspec": {
      "name": "python3",
      "display_name": "Python 3"
    },
    "language_info": {
      "name": "python"
    }
  },
  "cells": [
    {
      "cell_type": "markdown",
      "metadata": {
        "id": "view-in-github",
        "colab_type": "text"
      },
      "source": [
        "<a href=\"https://colab.research.google.com/github/vtu29606-creator/python/blob/main/task1.ipynb\" target=\"_parent\"><img src=\"https://colab.research.google.com/assets/colab-badge.svg\" alt=\"Open In Colab\"/></a>"
      ]
    },
    {
      "cell_type": "code",
      "execution_count": 1,
      "metadata": {
        "colab": {
          "base_uri": "https://localhost:8080/"
        },
        "id": "jn2FDG9dOn5P",
        "outputId": "29ae7a73-bd9c-48fe-9248-59e295f35899"
      },
      "outputs": [
        {
          "output_type": "stream",
          "name": "stdout",
          "text": [
            "enter total number of loaves per day\n",
            "10\n",
            "Regular Price  1850\n",
            "Total Discount  1110.0\n",
            "Total Amount to be paid  740.0\n"
          ]
        }
      ],
      "source": [
        "a = int(input(\"enter total number of loaves per day\\n\"))\n",
        "r = 185 * a\n",
        "d = 0.6 * r\n",
        "t = 0.4 * r\n",
        "print(\"Regular Price \", r)\n",
        "print(\"Total Discount \", d)\n",
        "print(\"Total Amount to be paid \", t)"
      ]
    },
    {
      "cell_type": "code",
      "source": [
        "cls = float(input(\"Enter temperature in Celsius: \"))\n",
        "fah = (cls * 1.8) + 32\n",
        "print(\"%0.1f degrees Celsius is equal to %0.1f degrees Fahrenheit.\" % (cls, fah))\n"
      ],
      "metadata": {
        "colab": {
          "base_uri": "https://localhost:8080/"
        },
        "id": "Gj-EiX7wOxFl",
        "outputId": "1f4f52c9-3e06-48a1-8be1-5b35c7912542"
      },
      "execution_count": 2,
      "outputs": [
        {
          "output_type": "stream",
          "name": "stdout",
          "text": [
            "Enter temperature in Celsius: 100\n",
            "100.0 degrees Celsius is equal to 212.0 degrees Fahrenheit.\n"
          ]
        }
      ]
    },
    {
      "cell_type": "code",
      "source": [
        "import math\n",
        "def distance(x1, y1, z1, x2, y2, z2):\n",
        "    d = math.sqrt((x2 - x1)**2 + (y2 - y1)**2 + (z2 - z1)**2)\n",
        "    print(\"Distance is\", d)\n",
        "x1 = float(input(\"Enter the X1-coordinate: \"))\n",
        "y1 = float(input(\"Enter the Y1-coordinate: \"))\n",
        "z1 = float(input(\"Enter the Z1-coordinate: \"))\n",
        "x2 = float(input(\"Enter the X2-coordinate: \"))\n",
        "y2 = float(input(\"Enter the Y2-coordinate: \"))\n",
        "z2 = float(input(\"Enter the Z2-coordinate: \"))\n",
        "distance(x1, y1, z1, x2, y2, z2)\n"
      ],
      "metadata": {
        "colab": {
          "base_uri": "https://localhost:8080/"
        },
        "id": "weL_AcbmPAVB",
        "outputId": "717af89a-a846-4364-f5b4-0a91c9bcd2f3"
      },
      "execution_count": 3,
      "outputs": [
        {
          "output_type": "stream",
          "name": "stdout",
          "text": [
            "Enter the X1-coordinate: 23\n",
            "Enter the Y1-coordinate: 12\n",
            "Enter the Z1-coordinate: 54\n",
            "Enter the X2-coordinate: 33\n",
            "Enter the Y2-coordinate: 22\n",
            "Enter the Z2-coordinate: 1\n",
            "Distance is 54.85435260760991\n"
          ]
        }
      ]
    },
    {
      "cell_type": "code",
      "source": [
        "import math\n",
        "def equationroots(x, y, z):\n",
        "    discri = y * y - 4 * x * z\n",
        "    sqrtval = math.sqrt(abs(discri))\n",
        "    if discri > 0:\n",
        "        print(\"Roots are real and different\")\n",
        "        print((-y + sqrtval) / (2 * x))\n",
        "        print((-y - sqrtval) / (2 * x))\n",
        "    elif discri == 0:\n",
        "        print(\"Roots are real and same\")\n",
        "        print(-y / (2 * x))\n",
        "    else:\n",
        "        print(\"Roots are complex\")\n",
        "        print(-y / (2 * x), \"+ i\", sqrtval)\n",
        "        print(-y / (2 * x), \"- i\", sqrtval)\n",
        "x = int(input(\"Enter a: \"))\n",
        "y = int(input(\"Enter b: \"))\n",
        "z = int(input(\"Enter c: \"))\n",
        "if x == 0:\n",
        "    print(\"Input correct quadratic equation\")\n",
        "else:\n",
        "    equationroots(x, y, z)"
      ],
      "metadata": {
        "colab": {
          "base_uri": "https://localhost:8080/"
        },
        "id": "09mNqkMVPH43",
        "outputId": "db5d7516-8a88-4a3f-ffb6-aa3d349bbd5d"
      },
      "execution_count": 4,
      "outputs": [
        {
          "output_type": "stream",
          "name": "stdout",
          "text": [
            "Enter a: 33\n",
            "Enter b: 22\n",
            "Enter c: 44\n",
            "Roots are complex\n",
            "-0.3333333333333333 + i 72.9657453878188\n",
            "-0.3333333333333333 - i 72.9657453878188\n"
          ]
        }
      ]
    }
  ]
}